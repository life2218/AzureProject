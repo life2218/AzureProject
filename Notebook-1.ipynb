{
    "metadata": {
        "kernelspec": {
            "name": "SQL",
            "display_name": "SQL",
            "language": "sql"
        },
        "language_info": {
            "name": "sql",
            "version": ""
        }
    },
    "nbformat_minor": 2,
    "nbformat": 4,
    "cells": [
        {
            "cell_type": "markdown",
            "source": [
                "# **<mark>How the 3 point shot has increased in attempts and their percentages since its introduction in 1970</mark>**"
            ],
            "metadata": {
                "azdata_cell_guid": "4655f532-b939-4f9e-b3f4-3297a769b4ba"
            },
            "attachments": {}
        },
        {
            "cell_type": "markdown",
            "source": [
                "### \n",
                "\n",
                "- This query includes an aggregate function; AVG()\n",
                "\n",
                "- I am using this function to measure the 3 point attempts and percentage for the entire NBA by decade.\n",
                "\n",
                "- GROUP BY and ORDER BY are used to categorize the data by season year\n",
                "\n",
                "- The line graphs whos the upward trend in the 3 pt attempts and its correlation to 3 point percentage increase for the most part in each decade."
            ],
            "metadata": {
                "azdata_cell_guid": "f618d49b-9310-45bb-b213-f31dcbb82a54"
            },
            "attachments": {}
        },
        {
            "cell_type": "code",
            "source": [
                "select [season], avg([x3p_per_game]) AS '80''s 3 point %', avg([x3pa_per_game]) AS '80''s 3 pt attempts per game'\r\n",
                "FROM [dbo].[Player Per Game]\r\n",
                "where season between 1980 AND 1989\r\n",
                "GROUP BY [season]\r\n",
                "ORDER BY [season]\r\n",
                "\r\n",
                "select [season],avg([x3p_per_game]) AS '90''s 3 point %', avg([x3pa_per_game]) AS '90''s 3 pt attempts per game' \r\n",
                "from [dbo].[Player Per Game]\r\n",
                "where season between 1990 AND 1999\r\n",
                "GROUP BY [season]\r\n",
                "ORDER BY [season]\r\n",
                "\r\n",
                "select [season],avg([x3p_per_game]) AS '2000''s 3 point %', avg([x3pa_per_game]) AS '2000''s 3 pt attempts per game' \r\n",
                "from [dbo].[Player Per Game]\r\n",
                "where season between 2000 AND 2009\r\n",
                "GROUP BY [season]\r\n",
                "ORDER BY [season]\r\n",
                "\r\n",
                "select [season],avg([x3p_per_game]) AS '2010''s 3 point %', avg([x3pa_per_game]) AS '2010''s 3 pt attempts per game'\r\n",
                "from [dbo].[Player Per Game]\r\n",
                "where season between 2010 AND 2019\r\n",
                "GROUP BY [season]\r\n",
                "ORDER BY [season];\r\n",
                "\r\n",
                "select [season],[team], [attend] AS Attendance,[w] AS Wins   \r\n",
                "from [dbo].[Team Summaries]\r\n",
                "WHERE ([season] BETWEEN 2023 AND 2024)\r\n",
                "AND [attend] IS NOT NULL\r\n",
                "AND [w] IS NOT NULL\r\n",
                "ORDER BY 1,4 DESC,3 DESC"
            ],
            "metadata": {
                "azdata_cell_guid": "27fd4009-e266-4782-b9f8-97e4b9e74010",
                "language": "sql",
                "tags": []
            },
            "outputs": [
                {
                    "output_type": "display_data",
                    "data": {
                        "text/html": "(10 rows affected)"
                    },
                    "metadata": {}
                },
                {
                    "output_type": "display_data",
                    "data": {
                        "text/html": "(10 rows affected)"
                    },
                    "metadata": {}
                },
                {
                    "output_type": "display_data",
                    "data": {
                        "text/html": "(10 rows affected)"
                    },
                    "metadata": {}
                },
                {
                    "output_type": "display_data",
                    "data": {
                        "text/html": "(10 rows affected)"
                    },
                    "metadata": {}
                },
                {
                    "output_type": "display_data",
                    "data": {
                        "text/html": "(60 rows affected)"
                    },
                    "metadata": {}
                },
                {
                    "output_type": "display_data",
                    "data": {
                        "text/html": "Total execution time: 00:00:00.210"
                    },
                    "metadata": {}
                },
                {
                    "output_type": "execute_result",
                    "metadata": {
                        "azdata_chartOptions": {
                            "type": "line",
                            "dataDirection": "vertical",
                            "columnsAsLabels": true,
                            "labelFirstColumn": false,
                            "legendPosition": "top",
                            "dataType": "number"
                        }
                    },
                    "execution_count": 1,
                    "data": {
                        "application/vnd.dataresource+json": {
                            "schema": {
                                "fields": [
                                    {
                                        "name": "season"
                                    },
                                    {
                                        "name": "80&#39;s 3 point %"
                                    },
                                    {
                                        "name": "80&#39;s 3 pt attempts per game"
                                    }
                                ]
                            },
                            "data": [
                                {
                                    "season": "1980",
                                    "80's 3 point %": "0.06610644356209357",
                                    "80's 3 pt attempts per game": "0.23781512767410412"
                                },
                                {
                                    "season": "1981",
                                    "80's 3 point %": "0.044077135437776235",
                                    "80's 3 pt attempts per game": "0.19035812801894406"
                                },
                                {
                                    "season": "1982",
                                    "80's 3 point %": "0.04745308395684884",
                                    "80's 3 pt attempts per game": "0.1983914228091291"
                                },
                                {
                                    "season": "1983",
                                    "80's 3 point %": "0.0409207168747397",
                                    "80's 3 pt attempts per game": "0.1867007695500503"
                                },
                                {
                                    "season": "1984",
                                    "80's 3 point %": "0.04839650243955173",
                                    "80's 3 pt attempts per game": "0.20699708630757152"
                                },
                                {
                                    "season": "1985",
                                    "80's 3 point %": "0.06574585764200648",
                                    "80's 3 pt attempts per game": "0.25110497410043825"
                                },
                                {
                                    "season": "1986",
                                    "80's 3 point %": "0.07598944680671893",
                                    "80's 3 pt attempts per game": "0.28997361827101115"
                                },
                                {
                                    "season": "1987",
                                    "80's 3 point %": "0.1063492077959593",
                                    "80's 3 pt attempts per game": "0.3753968271471205"
                                },
                                {
                                    "season": "1988",
                                    "80's 3 point %": "0.13262910873327458",
                                    "80's 3 pt attempts per game": "0.4291079843792837"
                                },
                                {
                                    "season": "1989",
                                    "80's 3 point %": "0.15821917938519287",
                                    "80's 3 pt attempts per game": "0.5114155258966363"
                                }
                            ]
                        },
                        "text/html": [
                            "<table>",
                            "<tr><th>season</th><th>80&#39;s 3 point %</th><th>80&#39;s 3 pt attempts per game</th></tr>",
                            "<tr><td>1980</td><td>0.06610644356209357</td><td>0.23781512767410412</td></tr>",
                            "<tr><td>1981</td><td>0.044077135437776235</td><td>0.19035812801894406</td></tr>",
                            "<tr><td>1982</td><td>0.04745308395684884</td><td>0.1983914228091291</td></tr>",
                            "<tr><td>1983</td><td>0.0409207168747397</td><td>0.1867007695500503</td></tr>",
                            "<tr><td>1984</td><td>0.04839650243955173</td><td>0.20699708630757152</td></tr>",
                            "<tr><td>1985</td><td>0.06574585764200648</td><td>0.25110497410043825</td></tr>",
                            "<tr><td>1986</td><td>0.07598944680671893</td><td>0.28997361827101115</td></tr>",
                            "<tr><td>1987</td><td>0.1063492077959593</td><td>0.3753968271471205</td></tr>",
                            "<tr><td>1988</td><td>0.13262910873327458</td><td>0.4291079843792837</td></tr>",
                            "<tr><td>1989</td><td>0.15821917938519287</td><td>0.5114155258966363</td></tr>",
                            "</table>"
                        ]
                    }
                },
                {
                    "output_type": "execute_result",
                    "metadata": {
                        "azdata_chartOptions": {
                            "type": "line",
                            "dataDirection": "vertical",
                            "columnsAsLabels": true,
                            "labelFirstColumn": false,
                            "legendPosition": "top",
                            "dataType": "number"
                        }
                    },
                    "execution_count": 1,
                    "data": {
                        "application/vnd.dataresource+json": {
                            "schema": {
                                "fields": [
                                    {
                                        "name": "season"
                                    },
                                    {
                                        "name": "90&#39;s 3 point %"
                                    },
                                    {
                                        "name": "90&#39;s 3 pt attempts per game"
                                    }
                                ]
                            },
                            "data": [
                                {
                                    "season": "1990",
                                    "90's 3 point %": "0.16013072039891432",
                                    "90's 3 pt attempts per game": "0.514161222137527"
                                },
                                {
                                    "season": "1991",
                                    "90's 3 point %": "0.18888889062228928",
                                    "90's 3 pt attempts per game": "0.600226758575899"
                                },
                                {
                                    "season": "1992",
                                    "90's 3 point %": "0.19672489289893855",
                                    "90's 3 pt attempts per game": "0.6111353714360681"
                                },
                                {
                                    "season": "1993",
                                    "90's 3 point %": "0.22761692879991172",
                                    "90's 3 pt attempts per game": "0.7033407584927927"
                                },
                                {
                                    "season": "1994",
                                    "90's 3 point %": "0.24407484617835518",
                                    "90's 3 pt attempts per game": "0.7532224559889266"
                                },
                                {
                                    "season": "1995",
                                    "90's 3 point %": "0.44889380715259936",
                                    "90's 3 pt attempts per game": "1.3028761039166588"
                                },
                                {
                                    "season": "1996",
                                    "90's 3 point %": "0.4533944968646819",
                                    "90's 3 pt attempts per game": "1.2677064222070056"
                                },
                                {
                                    "season": "1997",
                                    "90's 3 point %": "0.4630662023320223",
                                    "90's 3 pt attempts per game": "1.3285714268087303"
                                },
                                {
                                    "season": "1998",
                                    "90's 3 point %": "0.3595978068885899",
                                    "90's 3 pt attempts per game": "1.0740402197734311"
                                },
                                {
                                    "season": "1999",
                                    "90's 3 point %": "0.34871795000526795",
                                    "90's 3 pt attempts per game": "1.0343195228769464"
                                }
                            ]
                        },
                        "text/html": [
                            "<table>",
                            "<tr><th>season</th><th>90&#39;s 3 point %</th><th>90&#39;s 3 pt attempts per game</th></tr>",
                            "<tr><td>1990</td><td>0.16013072039891432</td><td>0.514161222137527</td></tr>",
                            "<tr><td>1991</td><td>0.18888889062228928</td><td>0.600226758575899</td></tr>",
                            "<tr><td>1992</td><td>0.19672489289893855</td><td>0.6111353714360681</td></tr>",
                            "<tr><td>1993</td><td>0.22761692879991172</td><td>0.7033407584927927</td></tr>",
                            "<tr><td>1994</td><td>0.24407484617835518</td><td>0.7532224559889266</td></tr>",
                            "<tr><td>1995</td><td>0.44889380715259936</td><td>1.3028761039166588</td></tr>",
                            "<tr><td>1996</td><td>0.4533944968646819</td><td>1.2677064222070056</td></tr>",
                            "<tr><td>1997</td><td>0.4630662023320223</td><td>1.3285714268087303</td></tr>",
                            "<tr><td>1998</td><td>0.3595978068885899</td><td>1.0740402197734311</td></tr>",
                            "<tr><td>1999</td><td>0.34871795000526795</td><td>1.0343195228769464</td></tr>",
                            "</table>"
                        ]
                    }
                },
                {
                    "output_type": "execute_result",
                    "metadata": {
                        "azdata_chartOptions": {
                            "type": "line",
                            "dataDirection": "vertical",
                            "columnsAsLabels": true,
                            "labelFirstColumn": false,
                            "legendPosition": "top",
                            "dataType": "number"
                        }
                    },
                    "execution_count": 1,
                    "data": {
                        "application/vnd.dataresource+json": {
                            "schema": {
                                "fields": [
                                    {
                                        "name": "season"
                                    },
                                    {
                                        "name": "2000&#39;s 3 point %"
                                    },
                                    {
                                        "name": "2000&#39;s 3 pt attempts per game"
                                    }
                                ]
                            },
                            "data": [
                                {
                                    "season": "2000",
                                    "2000's 3 point %": "0.3731854846400599",
                                    "2000's 3 pt attempts per game": "1.0989919356070459"
                                },
                                {
                                    "season": "2001",
                                    "2000's 3 point %": "0.3592178779801621",
                                    "2000's 3 pt attempts per game": "1.040037244336343"
                                },
                                {
                                    "season": "2002",
                                    "2000's 3 point %": "0.4206000002473593",
                                    "2000's 3 pt attempts per game": "1.2284000027030706"
                                },
                                {
                                    "season": "2003",
                                    "2000's 3 point %": "0.41118012589265596",
                                    "2000's 3 pt attempts per game": "1.2012422349974976"
                                },
                                {
                                    "season": "2004",
                                    "2000's 3 point %": "0.3979487183511767",
                                    "2000's 3 pt attempts per game": "1.169743590388033"
                                },
                                {
                                    "season": "2005",
                                    "2000's 3 point %": "0.4625641033308119",
                                    "2000's 3 pt attempts per game": "1.3222222248967896"
                                },
                                {
                                    "season": "2006",
                                    "2000's 3 point %": "0.44902309107049954",
                                    "2000's 3 pt attempts per game": "1.2850799276286713"
                                },
                                {
                                    "season": "2007",
                                    "2000's 3 point %": "0.4955426364588414",
                                    "2000's 3 pt attempts per game": "1.4062015487444262"
                                },
                                {
                                    "season": "2008",
                                    "2000's 3 point %": "0.4899159674759673",
                                    "2000's 3 pt attempts per game": "1.3983193262660203"
                                },
                                {
                                    "season": "2009",
                                    "2000's 3 point %": "0.5420962221715663",
                                    "2000's 3 pt attempts per game": "1.504467352994324"
                                }
                            ]
                        },
                        "text/html": [
                            "<table>",
                            "<tr><th>season</th><th>2000&#39;s 3 point %</th><th>2000&#39;s 3 pt attempts per game</th></tr>",
                            "<tr><td>2000</td><td>0.3731854846400599</td><td>1.0989919356070459</td></tr>",
                            "<tr><td>2001</td><td>0.3592178779801621</td><td>1.040037244336343</td></tr>",
                            "<tr><td>2002</td><td>0.4206000002473593</td><td>1.2284000027030706</td></tr>",
                            "<tr><td>2003</td><td>0.41118012589265596</td><td>1.2012422349974976</td></tr>",
                            "<tr><td>2004</td><td>0.3979487183511767</td><td>1.169743590388033</td></tr>",
                            "<tr><td>2005</td><td>0.4625641033308119</td><td>1.3222222248967896</td></tr>",
                            "<tr><td>2006</td><td>0.44902309107049954</td><td>1.2850799276286713</td></tr>",
                            "<tr><td>2007</td><td>0.4955426364588414</td><td>1.4062015487444262</td></tr>",
                            "<tr><td>2008</td><td>0.4899159674759673</td><td>1.3983193262660203</td></tr>",
                            "<tr><td>2009</td><td>0.5420962221715663</td><td>1.504467352994324</td></tr>",
                            "</table>"
                        ]
                    }
                },
                {
                    "output_type": "execute_result",
                    "metadata": {
                        "azdata_chartOptions": {
                            "type": "line",
                            "dataDirection": "vertical",
                            "columnsAsLabels": true,
                            "labelFirstColumn": false,
                            "legendPosition": "top",
                            "dataType": "number"
                        }
                    },
                    "execution_count": 1,
                    "data": {
                        "application/vnd.dataresource+json": {
                            "schema": {
                                "fields": [
                                    {
                                        "name": "season"
                                    },
                                    {
                                        "name": "2010&#39;s 3 point %"
                                    },
                                    {
                                        "name": "2010&#39;s 3 pt attempts per game"
                                    }
                                ]
                            },
                            "data": [
                                {
                                    "season": "2010",
                                    "2010's 3 point %": "0.521626297732538",
                                    "2010's 3 pt attempts per game": "1.505882351108179"
                                },
                                {
                                    "season": "2011",
                                    "2010's 3 point %": "0.5404800023674965",
                                    "2010's 3 pt attempts per game": "1.5371200006723404"
                                },
                                {
                                    "season": "2012",
                                    "2010's 3 point %": "0.5094373881032592",
                                    "2010's 3 pt attempts per game": "1.509255895056439"
                                },
                                {
                                    "season": "2013",
                                    "2010's 3 point %": "0.5542757428831455",
                                    "2010's 3 pt attempts per game": "1.5884816727063003"
                                },
                                {
                                    "season": "2014",
                                    "2010's 3 point %": "0.5967266786166767",
                                    "2010's 3 pt attempts per game": "1.6893617005351131"
                                },
                                {
                                    "season": "2015",
                                    "2010's 3 point %": "0.6317972368038561",
                                    "2010's 3 pt attempts per game": "1.8698924729305844"
                                },
                                {
                                    "season": "2016",
                                    "2010's 3 point %": "0.6638408308803623",
                                    "2010's 3 pt attempts per game": "1.9081314867781314"
                                },
                                {
                                    "season": "2017",
                                    "2010's 3 point %": "0.7628571439064852",
                                    "2010's 3 pt attempts per game": "2.1692436958310983"
                                },
                                {
                                    "season": "2018",
                                    "2010's 3 point %": "0.777560242059001",
                                    "2010's 3 pt attempts per game": "2.217921690319676"
                                },
                                {
                                    "season": "2019",
                                    "2010's 3 point %": "0.884180791612904",
                                    "2010's 3 pt attempts per game": "2.5588983015636098"
                                }
                            ]
                        },
                        "text/html": [
                            "<table>",
                            "<tr><th>season</th><th>2010&#39;s 3 point %</th><th>2010&#39;s 3 pt attempts per game</th></tr>",
                            "<tr><td>2010</td><td>0.521626297732538</td><td>1.505882351108179</td></tr>",
                            "<tr><td>2011</td><td>0.5404800023674965</td><td>1.5371200006723404</td></tr>",
                            "<tr><td>2012</td><td>0.5094373881032592</td><td>1.509255895056439</td></tr>",
                            "<tr><td>2013</td><td>0.5542757428831455</td><td>1.5884816727063003</td></tr>",
                            "<tr><td>2014</td><td>0.5967266786166767</td><td>1.6893617005351131</td></tr>",
                            "<tr><td>2015</td><td>0.6317972368038561</td><td>1.8698924729305844</td></tr>",
                            "<tr><td>2016</td><td>0.6638408308803623</td><td>1.9081314867781314</td></tr>",
                            "<tr><td>2017</td><td>0.7628571439064852</td><td>2.1692436958310983</td></tr>",
                            "<tr><td>2018</td><td>0.777560242059001</td><td>2.217921690319676</td></tr>",
                            "<tr><td>2019</td><td>0.884180791612904</td><td>2.5588983015636098</td></tr>",
                            "</table>"
                        ]
                    }
                },
                {
                    "output_type": "execute_result",
                    "metadata": {},
                    "execution_count": 1,
                    "data": {
                        "application/vnd.dataresource+json": {
                            "schema": {
                                "fields": [
                                    {
                                        "name": "season"
                                    },
                                    {
                                        "name": "team"
                                    },
                                    {
                                        "name": "Attendance"
                                    },
                                    {
                                        "name": "Wins"
                                    }
                                ]
                            },
                            "data": [
                                {
                                    "season": "2023",
                                    "team": "Milwaukee Bucks",
                                    "Attendance": "718786",
                                    "Wins": "58"
                                },
                                {
                                    "season": "2023",
                                    "team": "Boston Celtics",
                                    "Attendance": "766240",
                                    "Wins": "57"
                                },
                                {
                                    "season": "2023",
                                    "team": "Philadelphia 76ers",
                                    "Attendance": "839261",
                                    "Wins": "54"
                                },
                                {
                                    "season": "2023",
                                    "team": "Denver Nuggets",
                                    "Attendance": "788635",
                                    "Wins": "53"
                                },
                                {
                                    "season": "2023",
                                    "team": "Cleveland Cavaliers",
                                    "Attendance": "777280",
                                    "Wins": "51"
                                },
                                {
                                    "season": "2023",
                                    "team": "Memphis Grizzlies",
                                    "Attendance": "707836",
                                    "Wins": "51"
                                },
                                {
                                    "season": "2023",
                                    "team": "Sacramento Kings",
                                    "Attendance": "715491",
                                    "Wins": "48"
                                },
                                {
                                    "season": "2023",
                                    "team": "New York Knicks",
                                    "Attendance": "795110",
                                    "Wins": "47"
                                },
                                {
                                    "season": "2023",
                                    "team": "Brooklyn Nets",
                                    "Attendance": "724439",
                                    "Wins": "45"
                                },
                                {
                                    "season": "2023",
                                    "team": "Phoenix Suns",
                                    "Attendance": "699911",
                                    "Wins": "45"
                                },
                                {
                                    "season": "2023",
                                    "team": "Miami Heat",
                                    "Attendance": "807190",
                                    "Wins": "44"
                                },
                                {
                                    "season": "2023",
                                    "team": "Golden State Warriors",
                                    "Attendance": "740624",
                                    "Wins": "44"
                                },
                                {
                                    "season": "2023",
                                    "team": "Los Angeles Clippers",
                                    "Attendance": "720543",
                                    "Wins": "44"
                                },
                                {
                                    "season": "2023",
                                    "team": "Los Angeles Lakers",
                                    "Attendance": "763168",
                                    "Wins": "43"
                                },
                                {
                                    "season": "2023",
                                    "team": "New Orleans Pelicans",
                                    "Attendance": "687691",
                                    "Wins": "42"
                                },
                                {
                                    "season": "2023",
                                    "team": "Minnesota Timberwolves",
                                    "Attendance": "687510",
                                    "Wins": "42"
                                },
                                {
                                    "season": "2023",
                                    "team": "Toronto Raptors",
                                    "Attendance": "811261",
                                    "Wins": "41"
                                },
                                {
                                    "season": "2023",
                                    "team": "Atlanta Hawks",
                                    "Attendance": "719787",
                                    "Wins": "41"
                                },
                                {
                                    "season": "2023",
                                    "team": "Chicago Bulls",
                                    "Attendance": "841632",
                                    "Wins": "40"
                                },
                                {
                                    "season": "2023",
                                    "team": "Oklahoma City Thunder",
                                    "Attendance": "636903",
                                    "Wins": "40"
                                },
                                {
                                    "season": "2023",
                                    "team": "Dallas Mavericks",
                                    "Attendance": "827282",
                                    "Wins": "38"
                                },
                                {
                                    "season": "2023",
                                    "team": "Utah Jazz",
                                    "Attendance": "728240",
                                    "Wins": "37"
                                },
                                {
                                    "season": "2023",
                                    "team": "Washington Wizards",
                                    "Attendance": "710481",
                                    "Wins": "35"
                                },
                                {
                                    "season": "2023",
                                    "team": "Indiana Pacers",
                                    "Attendance": "641562",
                                    "Wins": "35"
                                },
                                {
                                    "season": "2023",
                                    "team": "Orlando Magic",
                                    "Attendance": "728405",
                                    "Wins": "34"
                                },
                                {
                                    "season": "2023",
                                    "team": "Portland Trail Blazers",
                                    "Attendance": "767374",
                                    "Wins": "33"
                                },
                                {
                                    "season": "2023",
                                    "team": "Charlotte Hornets",
                                    "Attendance": "702052",
                                    "Wins": "27"
                                },
                                {
                                    "season": "2023",
                                    "team": "San Antonio Spurs",
                                    "Attendance": "694434",
                                    "Wins": "22"
                                },
                                {
                                    "season": "2023",
                                    "team": "Houston Rockets",
                                    "Attendance": "668865",
                                    "Wins": "22"
                                },
                                {
                                    "season": "2023",
                                    "team": "Detroit Pistons",
                                    "Attendance": "759715",
                                    "Wins": "17"
                                },
                                {
                                    "season": "2024",
                                    "team": "Boston Celtics",
                                    "Attendance": "766240",
                                    "Wins": "64"
                                },
                                {
                                    "season": "2024",
                                    "team": "Denver Nuggets",
                                    "Attendance": "807062",
                                    "Wins": "57"
                                },
                                {
                                    "season": "2024",
                                    "team": "Oklahoma City Thunder",
                                    "Attendance": "715509",
                                    "Wins": "57"
                                },
                                {
                                    "season": "2024",
                                    "team": "Minnesota Timberwolves",
                                    "Attendance": "720960",
                                    "Wins": "56"
                                },
                                {
                                    "season": "2024",
                                    "team": "Los Angeles Clippers",
                                    "Attendance": "776782",
                                    "Wins": "51"
                                },
                                {
                                    "season": "2024",
                                    "team": "Dallas Mavericks",
                                    "Attendance": "828897",
                                    "Wins": "50"
                                },
                                {
                                    "season": "2024",
                                    "team": "New York Knicks",
                                    "Attendance": "808885",
                                    "Wins": "50"
                                },
                                {
                                    "season": "2024",
                                    "team": "Milwaukee Bucks",
                                    "Attendance": "740850",
                                    "Wins": "49"
                                },
                                {
                                    "season": "2024",
                                    "team": "Phoenix Suns",
                                    "Attendance": "699911",
                                    "Wins": "49"
                                },
                                {
                                    "season": "2024",
                                    "team": "New Orleans Pelicans",
                                    "Attendance": "692054",
                                    "Wins": "49"
                                },
                                {
                                    "season": "2024",
                                    "team": "Cleveland Cavaliers",
                                    "Attendance": "793167",
                                    "Wins": "48"
                                },
                                {
                                    "season": "2024",
                                    "team": "Philadelphia 76ers",
                                    "Attendance": "821714",
                                    "Wins": "47"
                                },
                                {
                                    "season": "2024",
                                    "team": "Los Angeles Lakers",
                                    "Attendance": "793945",
                                    "Wins": "47"
                                },
                                {
                                    "season": "2024",
                                    "team": "Orlando Magic",
                                    "Attendance": "773939",
                                    "Wins": "47"
                                },
                                {
                                    "season": "2024",
                                    "team": "Indiana Pacers",
                                    "Attendance": "677554",
                                    "Wins": "47"
                                },
                                {
                                    "season": "2024",
                                    "team": "Miami Heat",
                                    "Attendance": "809743",
                                    "Wins": "46"
                                },
                                {
                                    "season": "2024",
                                    "team": "Golden State Warriors",
                                    "Attendance": "740624",
                                    "Wins": "46"
                                },
                                {
                                    "season": "2024",
                                    "team": "Sacramento Kings",
                                    "Attendance": "735015",
                                    "Wins": "46"
                                },
                                {
                                    "season": "2024",
                                    "team": "Houston Rockets",
                                    "Attendance": "720045",
                                    "Wins": "41"
                                },
                                {
                                    "season": "2024",
                                    "team": "Chicago Bulls",
                                    "Attendance": "845620",
                                    "Wins": "39"
                                },
                                {
                                    "season": "2024",
                                    "team": "Atlanta Hawks",
                                    "Attendance": "696418",
                                    "Wins": "36"
                                },
                                {
                                    "season": "2024",
                                    "team": "Brooklyn Nets",
                                    "Attendance": "720291",
                                    "Wins": "32"
                                },
                                {
                                    "season": "2024",
                                    "team": "Utah Jazz",
                                    "Attendance": "728240",
                                    "Wins": "31"
                                },
                                {
                                    "season": "2024",
                                    "team": "Memphis Grizzlies",
                                    "Attendance": "681875",
                                    "Wins": "27"
                                },
                                {
                                    "season": "2024",
                                    "team": "Toronto Raptors",
                                    "Attendance": "800129",
                                    "Wins": "25"
                                },
                                {
                                    "season": "2024",
                                    "team": "San Antonio Spurs",
                                    "Attendance": "742522",
                                    "Wins": "22"
                                },
                                {
                                    "season": "2024",
                                    "team": "Portland Trail Blazers",
                                    "Attendance": "751395",
                                    "Wins": "21"
                                },
                                {
                                    "season": "2024",
                                    "team": "Charlotte Hornets",
                                    "Attendance": "674400",
                                    "Wins": "21"
                                },
                                {
                                    "season": "2024",
                                    "team": "Washington Wizards",
                                    "Attendance": "692851",
                                    "Wins": "15"
                                },
                                {
                                    "season": "2024",
                                    "team": "Detroit Pistons",
                                    "Attendance": "726378",
                                    "Wins": "14"
                                }
                            ]
                        },
                        "text/html": [
                            "<table>",
                            "<tr><th>season</th><th>team</th><th>Attendance</th><th>Wins</th></tr>",
                            "<tr><td>2023</td><td>Milwaukee Bucks</td><td>718786</td><td>58</td></tr>",
                            "<tr><td>2023</td><td>Boston Celtics</td><td>766240</td><td>57</td></tr>",
                            "<tr><td>2023</td><td>Philadelphia 76ers</td><td>839261</td><td>54</td></tr>",
                            "<tr><td>2023</td><td>Denver Nuggets</td><td>788635</td><td>53</td></tr>",
                            "<tr><td>2023</td><td>Cleveland Cavaliers</td><td>777280</td><td>51</td></tr>",
                            "<tr><td>2023</td><td>Memphis Grizzlies</td><td>707836</td><td>51</td></tr>",
                            "<tr><td>2023</td><td>Sacramento Kings</td><td>715491</td><td>48</td></tr>",
                            "<tr><td>2023</td><td>New York Knicks</td><td>795110</td><td>47</td></tr>",
                            "<tr><td>2023</td><td>Brooklyn Nets</td><td>724439</td><td>45</td></tr>",
                            "<tr><td>2023</td><td>Phoenix Suns</td><td>699911</td><td>45</td></tr>",
                            "<tr><td>2023</td><td>Miami Heat</td><td>807190</td><td>44</td></tr>",
                            "<tr><td>2023</td><td>Golden State Warriors</td><td>740624</td><td>44</td></tr>",
                            "<tr><td>2023</td><td>Los Angeles Clippers</td><td>720543</td><td>44</td></tr>",
                            "<tr><td>2023</td><td>Los Angeles Lakers</td><td>763168</td><td>43</td></tr>",
                            "<tr><td>2023</td><td>New Orleans Pelicans</td><td>687691</td><td>42</td></tr>",
                            "<tr><td>2023</td><td>Minnesota Timberwolves</td><td>687510</td><td>42</td></tr>",
                            "<tr><td>2023</td><td>Toronto Raptors</td><td>811261</td><td>41</td></tr>",
                            "<tr><td>2023</td><td>Atlanta Hawks</td><td>719787</td><td>41</td></tr>",
                            "<tr><td>2023</td><td>Chicago Bulls</td><td>841632</td><td>40</td></tr>",
                            "<tr><td>2023</td><td>Oklahoma City Thunder</td><td>636903</td><td>40</td></tr>",
                            "<tr><td>2023</td><td>Dallas Mavericks</td><td>827282</td><td>38</td></tr>",
                            "<tr><td>2023</td><td>Utah Jazz</td><td>728240</td><td>37</td></tr>",
                            "<tr><td>2023</td><td>Washington Wizards</td><td>710481</td><td>35</td></tr>",
                            "<tr><td>2023</td><td>Indiana Pacers</td><td>641562</td><td>35</td></tr>",
                            "<tr><td>2023</td><td>Orlando Magic</td><td>728405</td><td>34</td></tr>",
                            "<tr><td>2023</td><td>Portland Trail Blazers</td><td>767374</td><td>33</td></tr>",
                            "<tr><td>2023</td><td>Charlotte Hornets</td><td>702052</td><td>27</td></tr>",
                            "<tr><td>2023</td><td>San Antonio Spurs</td><td>694434</td><td>22</td></tr>",
                            "<tr><td>2023</td><td>Houston Rockets</td><td>668865</td><td>22</td></tr>",
                            "<tr><td>2023</td><td>Detroit Pistons</td><td>759715</td><td>17</td></tr>",
                            "<tr><td>2024</td><td>Boston Celtics</td><td>766240</td><td>64</td></tr>",
                            "<tr><td>2024</td><td>Denver Nuggets</td><td>807062</td><td>57</td></tr>",
                            "<tr><td>2024</td><td>Oklahoma City Thunder</td><td>715509</td><td>57</td></tr>",
                            "<tr><td>2024</td><td>Minnesota Timberwolves</td><td>720960</td><td>56</td></tr>",
                            "<tr><td>2024</td><td>Los Angeles Clippers</td><td>776782</td><td>51</td></tr>",
                            "<tr><td>2024</td><td>Dallas Mavericks</td><td>828897</td><td>50</td></tr>",
                            "<tr><td>2024</td><td>New York Knicks</td><td>808885</td><td>50</td></tr>",
                            "<tr><td>2024</td><td>Milwaukee Bucks</td><td>740850</td><td>49</td></tr>",
                            "<tr><td>2024</td><td>Phoenix Suns</td><td>699911</td><td>49</td></tr>",
                            "<tr><td>2024</td><td>New Orleans Pelicans</td><td>692054</td><td>49</td></tr>",
                            "<tr><td>2024</td><td>Cleveland Cavaliers</td><td>793167</td><td>48</td></tr>",
                            "<tr><td>2024</td><td>Philadelphia 76ers</td><td>821714</td><td>47</td></tr>",
                            "<tr><td>2024</td><td>Los Angeles Lakers</td><td>793945</td><td>47</td></tr>",
                            "<tr><td>2024</td><td>Orlando Magic</td><td>773939</td><td>47</td></tr>",
                            "<tr><td>2024</td><td>Indiana Pacers</td><td>677554</td><td>47</td></tr>",
                            "<tr><td>2024</td><td>Miami Heat</td><td>809743</td><td>46</td></tr>",
                            "<tr><td>2024</td><td>Golden State Warriors</td><td>740624</td><td>46</td></tr>",
                            "<tr><td>2024</td><td>Sacramento Kings</td><td>735015</td><td>46</td></tr>",
                            "<tr><td>2024</td><td>Houston Rockets</td><td>720045</td><td>41</td></tr>",
                            "<tr><td>2024</td><td>Chicago Bulls</td><td>845620</td><td>39</td></tr>",
                            "<tr><td>2024</td><td>Atlanta Hawks</td><td>696418</td><td>36</td></tr>",
                            "<tr><td>2024</td><td>Brooklyn Nets</td><td>720291</td><td>32</td></tr>",
                            "<tr><td>2024</td><td>Utah Jazz</td><td>728240</td><td>31</td></tr>",
                            "<tr><td>2024</td><td>Memphis Grizzlies</td><td>681875</td><td>27</td></tr>",
                            "<tr><td>2024</td><td>Toronto Raptors</td><td>800129</td><td>25</td></tr>",
                            "<tr><td>2024</td><td>San Antonio Spurs</td><td>742522</td><td>22</td></tr>",
                            "<tr><td>2024</td><td>Portland Trail Blazers</td><td>751395</td><td>21</td></tr>",
                            "<tr><td>2024</td><td>Charlotte Hornets</td><td>674400</td><td>21</td></tr>",
                            "<tr><td>2024</td><td>Washington Wizards</td><td>692851</td><td>15</td></tr>",
                            "<tr><td>2024</td><td>Detroit Pistons</td><td>726378</td><td>14</td></tr>",
                            "</table>"
                        ]
                    }
                }
            ],
            "execution_count": 1
        },
        {
            "cell_type": "markdown",
            "source": [
                "# <mark>**Attendance/ Wins Correlation for 2023 & 2024 Seasons by Team**</mark>"
            ],
            "metadata": {
                "azdata_cell_guid": "4a268a7d-4d31-4661-b23d-9a7fd81e548b"
            },
            "attachments": {}
        },
        {
            "cell_type": "markdown",
            "source": [
                "- Query uses aliases and ORDER BY\n",
                "- Aliases add to ease when creating a visualization\n",
                "- ORDER BY allowed for data to be sorted by season, then wins, then attendance\n",
                "- Regardless of the amount of research, I could not figure out how to include my SandDance Visualization Screenshot. I tried to insert image from the text cell. I will include it as a separate file to, at least, have it presented."
            ],
            "metadata": {
                "azdata_cell_guid": "cf3e0f1d-fb5c-43c6-b2bc-ca5461db33ef"
            },
            "attachments": {}
        },
        {
            "cell_type": "code",
            "source": [
                "select [season],[team], [attend] AS Attendance,[w] AS Wins   \r\n",
                "from [dbo].[Team Summaries]\r\n",
                "WHERE ([season] BETWEEN 2023 AND 2024)\r\n",
                "AND [attend] IS NOT NULL\r\n",
                "AND [w] IS NOT NULL\r\n",
                "ORDER BY 1,4 DESC,3 DESC"
            ],
            "metadata": {
                "azdata_cell_guid": "2c78ee37-66c7-4b64-bf95-b7a2495b7d11",
                "language": "sql",
                "tags": []
            },
            "outputs": [
                {
                    "output_type": "display_data",
                    "data": {
                        "text/html": "(60 rows affected)"
                    },
                    "metadata": {}
                },
                {
                    "output_type": "display_data",
                    "data": {
                        "text/html": "Total execution time: 00:00:00.006"
                    },
                    "metadata": {}
                },
                {
                    "output_type": "execute_result",
                    "metadata": {},
                    "execution_count": 2,
                    "data": {
                        "application/vnd.dataresource+json": {
                            "schema": {
                                "fields": [
                                    {
                                        "name": "season"
                                    },
                                    {
                                        "name": "team"
                                    },
                                    {
                                        "name": "Attendance"
                                    },
                                    {
                                        "name": "Wins"
                                    }
                                ]
                            },
                            "data": [
                                {
                                    "season": "2023",
                                    "team": "Milwaukee Bucks",
                                    "Attendance": "718786",
                                    "Wins": "58"
                                },
                                {
                                    "season": "2023",
                                    "team": "Boston Celtics",
                                    "Attendance": "766240",
                                    "Wins": "57"
                                },
                                {
                                    "season": "2023",
                                    "team": "Philadelphia 76ers",
                                    "Attendance": "839261",
                                    "Wins": "54"
                                },
                                {
                                    "season": "2023",
                                    "team": "Denver Nuggets",
                                    "Attendance": "788635",
                                    "Wins": "53"
                                },
                                {
                                    "season": "2023",
                                    "team": "Cleveland Cavaliers",
                                    "Attendance": "777280",
                                    "Wins": "51"
                                },
                                {
                                    "season": "2023",
                                    "team": "Memphis Grizzlies",
                                    "Attendance": "707836",
                                    "Wins": "51"
                                },
                                {
                                    "season": "2023",
                                    "team": "Sacramento Kings",
                                    "Attendance": "715491",
                                    "Wins": "48"
                                },
                                {
                                    "season": "2023",
                                    "team": "New York Knicks",
                                    "Attendance": "795110",
                                    "Wins": "47"
                                },
                                {
                                    "season": "2023",
                                    "team": "Brooklyn Nets",
                                    "Attendance": "724439",
                                    "Wins": "45"
                                },
                                {
                                    "season": "2023",
                                    "team": "Phoenix Suns",
                                    "Attendance": "699911",
                                    "Wins": "45"
                                },
                                {
                                    "season": "2023",
                                    "team": "Miami Heat",
                                    "Attendance": "807190",
                                    "Wins": "44"
                                },
                                {
                                    "season": "2023",
                                    "team": "Golden State Warriors",
                                    "Attendance": "740624",
                                    "Wins": "44"
                                },
                                {
                                    "season": "2023",
                                    "team": "Los Angeles Clippers",
                                    "Attendance": "720543",
                                    "Wins": "44"
                                },
                                {
                                    "season": "2023",
                                    "team": "Los Angeles Lakers",
                                    "Attendance": "763168",
                                    "Wins": "43"
                                },
                                {
                                    "season": "2023",
                                    "team": "New Orleans Pelicans",
                                    "Attendance": "687691",
                                    "Wins": "42"
                                },
                                {
                                    "season": "2023",
                                    "team": "Minnesota Timberwolves",
                                    "Attendance": "687510",
                                    "Wins": "42"
                                },
                                {
                                    "season": "2023",
                                    "team": "Toronto Raptors",
                                    "Attendance": "811261",
                                    "Wins": "41"
                                },
                                {
                                    "season": "2023",
                                    "team": "Atlanta Hawks",
                                    "Attendance": "719787",
                                    "Wins": "41"
                                },
                                {
                                    "season": "2023",
                                    "team": "Chicago Bulls",
                                    "Attendance": "841632",
                                    "Wins": "40"
                                },
                                {
                                    "season": "2023",
                                    "team": "Oklahoma City Thunder",
                                    "Attendance": "636903",
                                    "Wins": "40"
                                },
                                {
                                    "season": "2023",
                                    "team": "Dallas Mavericks",
                                    "Attendance": "827282",
                                    "Wins": "38"
                                },
                                {
                                    "season": "2023",
                                    "team": "Utah Jazz",
                                    "Attendance": "728240",
                                    "Wins": "37"
                                },
                                {
                                    "season": "2023",
                                    "team": "Washington Wizards",
                                    "Attendance": "710481",
                                    "Wins": "35"
                                },
                                {
                                    "season": "2023",
                                    "team": "Indiana Pacers",
                                    "Attendance": "641562",
                                    "Wins": "35"
                                },
                                {
                                    "season": "2023",
                                    "team": "Orlando Magic",
                                    "Attendance": "728405",
                                    "Wins": "34"
                                },
                                {
                                    "season": "2023",
                                    "team": "Portland Trail Blazers",
                                    "Attendance": "767374",
                                    "Wins": "33"
                                },
                                {
                                    "season": "2023",
                                    "team": "Charlotte Hornets",
                                    "Attendance": "702052",
                                    "Wins": "27"
                                },
                                {
                                    "season": "2023",
                                    "team": "San Antonio Spurs",
                                    "Attendance": "694434",
                                    "Wins": "22"
                                },
                                {
                                    "season": "2023",
                                    "team": "Houston Rockets",
                                    "Attendance": "668865",
                                    "Wins": "22"
                                },
                                {
                                    "season": "2023",
                                    "team": "Detroit Pistons",
                                    "Attendance": "759715",
                                    "Wins": "17"
                                },
                                {
                                    "season": "2024",
                                    "team": "Boston Celtics",
                                    "Attendance": "766240",
                                    "Wins": "64"
                                },
                                {
                                    "season": "2024",
                                    "team": "Denver Nuggets",
                                    "Attendance": "807062",
                                    "Wins": "57"
                                },
                                {
                                    "season": "2024",
                                    "team": "Oklahoma City Thunder",
                                    "Attendance": "715509",
                                    "Wins": "57"
                                },
                                {
                                    "season": "2024",
                                    "team": "Minnesota Timberwolves",
                                    "Attendance": "720960",
                                    "Wins": "56"
                                },
                                {
                                    "season": "2024",
                                    "team": "Los Angeles Clippers",
                                    "Attendance": "776782",
                                    "Wins": "51"
                                },
                                {
                                    "season": "2024",
                                    "team": "Dallas Mavericks",
                                    "Attendance": "828897",
                                    "Wins": "50"
                                },
                                {
                                    "season": "2024",
                                    "team": "New York Knicks",
                                    "Attendance": "808885",
                                    "Wins": "50"
                                },
                                {
                                    "season": "2024",
                                    "team": "Milwaukee Bucks",
                                    "Attendance": "740850",
                                    "Wins": "49"
                                },
                                {
                                    "season": "2024",
                                    "team": "Phoenix Suns",
                                    "Attendance": "699911",
                                    "Wins": "49"
                                },
                                {
                                    "season": "2024",
                                    "team": "New Orleans Pelicans",
                                    "Attendance": "692054",
                                    "Wins": "49"
                                },
                                {
                                    "season": "2024",
                                    "team": "Cleveland Cavaliers",
                                    "Attendance": "793167",
                                    "Wins": "48"
                                },
                                {
                                    "season": "2024",
                                    "team": "Philadelphia 76ers",
                                    "Attendance": "821714",
                                    "Wins": "47"
                                },
                                {
                                    "season": "2024",
                                    "team": "Los Angeles Lakers",
                                    "Attendance": "793945",
                                    "Wins": "47"
                                },
                                {
                                    "season": "2024",
                                    "team": "Orlando Magic",
                                    "Attendance": "773939",
                                    "Wins": "47"
                                },
                                {
                                    "season": "2024",
                                    "team": "Indiana Pacers",
                                    "Attendance": "677554",
                                    "Wins": "47"
                                },
                                {
                                    "season": "2024",
                                    "team": "Miami Heat",
                                    "Attendance": "809743",
                                    "Wins": "46"
                                },
                                {
                                    "season": "2024",
                                    "team": "Golden State Warriors",
                                    "Attendance": "740624",
                                    "Wins": "46"
                                },
                                {
                                    "season": "2024",
                                    "team": "Sacramento Kings",
                                    "Attendance": "735015",
                                    "Wins": "46"
                                },
                                {
                                    "season": "2024",
                                    "team": "Houston Rockets",
                                    "Attendance": "720045",
                                    "Wins": "41"
                                },
                                {
                                    "season": "2024",
                                    "team": "Chicago Bulls",
                                    "Attendance": "845620",
                                    "Wins": "39"
                                },
                                {
                                    "season": "2024",
                                    "team": "Atlanta Hawks",
                                    "Attendance": "696418",
                                    "Wins": "36"
                                },
                                {
                                    "season": "2024",
                                    "team": "Brooklyn Nets",
                                    "Attendance": "720291",
                                    "Wins": "32"
                                },
                                {
                                    "season": "2024",
                                    "team": "Utah Jazz",
                                    "Attendance": "728240",
                                    "Wins": "31"
                                },
                                {
                                    "season": "2024",
                                    "team": "Memphis Grizzlies",
                                    "Attendance": "681875",
                                    "Wins": "27"
                                },
                                {
                                    "season": "2024",
                                    "team": "Toronto Raptors",
                                    "Attendance": "800129",
                                    "Wins": "25"
                                },
                                {
                                    "season": "2024",
                                    "team": "San Antonio Spurs",
                                    "Attendance": "742522",
                                    "Wins": "22"
                                },
                                {
                                    "season": "2024",
                                    "team": "Portland Trail Blazers",
                                    "Attendance": "751395",
                                    "Wins": "21"
                                },
                                {
                                    "season": "2024",
                                    "team": "Charlotte Hornets",
                                    "Attendance": "674400",
                                    "Wins": "21"
                                },
                                {
                                    "season": "2024",
                                    "team": "Washington Wizards",
                                    "Attendance": "692851",
                                    "Wins": "15"
                                },
                                {
                                    "season": "2024",
                                    "team": "Detroit Pistons",
                                    "Attendance": "726378",
                                    "Wins": "14"
                                }
                            ]
                        },
                        "text/html": [
                            "<table>",
                            "<tr><th>season</th><th>team</th><th>Attendance</th><th>Wins</th></tr>",
                            "<tr><td>2023</td><td>Milwaukee Bucks</td><td>718786</td><td>58</td></tr>",
                            "<tr><td>2023</td><td>Boston Celtics</td><td>766240</td><td>57</td></tr>",
                            "<tr><td>2023</td><td>Philadelphia 76ers</td><td>839261</td><td>54</td></tr>",
                            "<tr><td>2023</td><td>Denver Nuggets</td><td>788635</td><td>53</td></tr>",
                            "<tr><td>2023</td><td>Cleveland Cavaliers</td><td>777280</td><td>51</td></tr>",
                            "<tr><td>2023</td><td>Memphis Grizzlies</td><td>707836</td><td>51</td></tr>",
                            "<tr><td>2023</td><td>Sacramento Kings</td><td>715491</td><td>48</td></tr>",
                            "<tr><td>2023</td><td>New York Knicks</td><td>795110</td><td>47</td></tr>",
                            "<tr><td>2023</td><td>Brooklyn Nets</td><td>724439</td><td>45</td></tr>",
                            "<tr><td>2023</td><td>Phoenix Suns</td><td>699911</td><td>45</td></tr>",
                            "<tr><td>2023</td><td>Miami Heat</td><td>807190</td><td>44</td></tr>",
                            "<tr><td>2023</td><td>Golden State Warriors</td><td>740624</td><td>44</td></tr>",
                            "<tr><td>2023</td><td>Los Angeles Clippers</td><td>720543</td><td>44</td></tr>",
                            "<tr><td>2023</td><td>Los Angeles Lakers</td><td>763168</td><td>43</td></tr>",
                            "<tr><td>2023</td><td>New Orleans Pelicans</td><td>687691</td><td>42</td></tr>",
                            "<tr><td>2023</td><td>Minnesota Timberwolves</td><td>687510</td><td>42</td></tr>",
                            "<tr><td>2023</td><td>Toronto Raptors</td><td>811261</td><td>41</td></tr>",
                            "<tr><td>2023</td><td>Atlanta Hawks</td><td>719787</td><td>41</td></tr>",
                            "<tr><td>2023</td><td>Chicago Bulls</td><td>841632</td><td>40</td></tr>",
                            "<tr><td>2023</td><td>Oklahoma City Thunder</td><td>636903</td><td>40</td></tr>",
                            "<tr><td>2023</td><td>Dallas Mavericks</td><td>827282</td><td>38</td></tr>",
                            "<tr><td>2023</td><td>Utah Jazz</td><td>728240</td><td>37</td></tr>",
                            "<tr><td>2023</td><td>Washington Wizards</td><td>710481</td><td>35</td></tr>",
                            "<tr><td>2023</td><td>Indiana Pacers</td><td>641562</td><td>35</td></tr>",
                            "<tr><td>2023</td><td>Orlando Magic</td><td>728405</td><td>34</td></tr>",
                            "<tr><td>2023</td><td>Portland Trail Blazers</td><td>767374</td><td>33</td></tr>",
                            "<tr><td>2023</td><td>Charlotte Hornets</td><td>702052</td><td>27</td></tr>",
                            "<tr><td>2023</td><td>San Antonio Spurs</td><td>694434</td><td>22</td></tr>",
                            "<tr><td>2023</td><td>Houston Rockets</td><td>668865</td><td>22</td></tr>",
                            "<tr><td>2023</td><td>Detroit Pistons</td><td>759715</td><td>17</td></tr>",
                            "<tr><td>2024</td><td>Boston Celtics</td><td>766240</td><td>64</td></tr>",
                            "<tr><td>2024</td><td>Denver Nuggets</td><td>807062</td><td>57</td></tr>",
                            "<tr><td>2024</td><td>Oklahoma City Thunder</td><td>715509</td><td>57</td></tr>",
                            "<tr><td>2024</td><td>Minnesota Timberwolves</td><td>720960</td><td>56</td></tr>",
                            "<tr><td>2024</td><td>Los Angeles Clippers</td><td>776782</td><td>51</td></tr>",
                            "<tr><td>2024</td><td>Dallas Mavericks</td><td>828897</td><td>50</td></tr>",
                            "<tr><td>2024</td><td>New York Knicks</td><td>808885</td><td>50</td></tr>",
                            "<tr><td>2024</td><td>Milwaukee Bucks</td><td>740850</td><td>49</td></tr>",
                            "<tr><td>2024</td><td>Phoenix Suns</td><td>699911</td><td>49</td></tr>",
                            "<tr><td>2024</td><td>New Orleans Pelicans</td><td>692054</td><td>49</td></tr>",
                            "<tr><td>2024</td><td>Cleveland Cavaliers</td><td>793167</td><td>48</td></tr>",
                            "<tr><td>2024</td><td>Philadelphia 76ers</td><td>821714</td><td>47</td></tr>",
                            "<tr><td>2024</td><td>Los Angeles Lakers</td><td>793945</td><td>47</td></tr>",
                            "<tr><td>2024</td><td>Orlando Magic</td><td>773939</td><td>47</td></tr>",
                            "<tr><td>2024</td><td>Indiana Pacers</td><td>677554</td><td>47</td></tr>",
                            "<tr><td>2024</td><td>Miami Heat</td><td>809743</td><td>46</td></tr>",
                            "<tr><td>2024</td><td>Golden State Warriors</td><td>740624</td><td>46</td></tr>",
                            "<tr><td>2024</td><td>Sacramento Kings</td><td>735015</td><td>46</td></tr>",
                            "<tr><td>2024</td><td>Houston Rockets</td><td>720045</td><td>41</td></tr>",
                            "<tr><td>2024</td><td>Chicago Bulls</td><td>845620</td><td>39</td></tr>",
                            "<tr><td>2024</td><td>Atlanta Hawks</td><td>696418</td><td>36</td></tr>",
                            "<tr><td>2024</td><td>Brooklyn Nets</td><td>720291</td><td>32</td></tr>",
                            "<tr><td>2024</td><td>Utah Jazz</td><td>728240</td><td>31</td></tr>",
                            "<tr><td>2024</td><td>Memphis Grizzlies</td><td>681875</td><td>27</td></tr>",
                            "<tr><td>2024</td><td>Toronto Raptors</td><td>800129</td><td>25</td></tr>",
                            "<tr><td>2024</td><td>San Antonio Spurs</td><td>742522</td><td>22</td></tr>",
                            "<tr><td>2024</td><td>Portland Trail Blazers</td><td>751395</td><td>21</td></tr>",
                            "<tr><td>2024</td><td>Charlotte Hornets</td><td>674400</td><td>21</td></tr>",
                            "<tr><td>2024</td><td>Washington Wizards</td><td>692851</td><td>15</td></tr>",
                            "<tr><td>2024</td><td>Detroit Pistons</td><td>726378</td><td>14</td></tr>",
                            "</table>"
                        ]
                    }
                }
            ],
            "execution_count": 2
        },
        {
            "cell_type": "markdown",
            "source": [
                "![Screenshot (156).png](attachment:Screenshot(156).png)"
            ],
            "metadata": {
                "language": "sql",
                "azdata_cell_guid": "732c0a9a-8f75-44ca-b157-93a8fbe6382c"
            },
            "attachments": {}
        },
        {
            "cell_type": "markdown",
            "source": [
                "# <mark>**NBA Season MVP Winner Totals by Team**</mark>\n",
                "\n",
                "- A COUNT function is used to keep a count of the total number of MVP awards won.\n",
                "- A WHERE clause was used to filter data that included only the winners of the award and the MVP award\n",
                "- A GROUP BY statement assisted in using each team as a category to find out how many MVP awards each team has won in NBA history."
            ],
            "metadata": {
                "language": "sql",
                "azdata_cell_guid": "5a05fdc7-df36-4fd4-9371-5287f627b0e0"
            },
            "attachments": {}
        },
        {
            "cell_type": "code",
            "source": [
                "SELECT [tm], COUNT(*) AS 'number of awards'\r\n",
                "FROM [dbo].[Player Award Shares]\r\n",
                "WHERE winner = 1\r\n",
                "AND award = 'nba mvp'\r\n",
                "group by tm;"
            ],
            "metadata": {
                "language": "sql",
                "azdata_cell_guid": "d09ee1bd-5e01-4456-a1ca-72fac0afe1db",
                "tags": []
            },
            "outputs": [
                {
                    "output_type": "display_data",
                    "data": {
                        "text/html": "(23 rows affected)"
                    },
                    "metadata": {}
                },
                {
                    "output_type": "display_data",
                    "data": {
                        "text/html": "Total execution time: 00:00:00.011"
                    },
                    "metadata": {}
                },
                {
                    "output_type": "execute_result",
                    "metadata": {
                        "azdata_chartOptions": {
                            "type": "bar",
                            "dataDirection": "vertical",
                            "columnsAsLabels": true,
                            "labelFirstColumn": false,
                            "legendPosition": "top"
                        }
                    },
                    "execution_count": 3,
                    "data": {
                        "application/vnd.dataresource+json": {
                            "schema": {
                                "fields": [
                                    {
                                        "name": "tm"
                                    },
                                    {
                                        "name": "number of awards"
                                    }
                                ]
                            },
                            "data": [
                                {
                                    "tm": "BAL",
                                    "number of awards": "1"
                                },
                                {
                                    "tm": "BOS",
                                    "number of awards": "10"
                                },
                                {
                                    "tm": "BUF",
                                    "number of awards": "1"
                                },
                                {
                                    "tm": "CHI",
                                    "number of awards": "6"
                                },
                                {
                                    "tm": "CIN",
                                    "number of awards": "1"
                                },
                                {
                                    "tm": "CLE",
                                    "number of awards": "2"
                                },
                                {
                                    "tm": "DAL",
                                    "number of awards": "1"
                                },
                                {
                                    "tm": "DEN",
                                    "number of awards": "2"
                                },
                                {
                                    "tm": "GSW",
                                    "number of awards": "2"
                                },
                                {
                                    "tm": "HOU",
                                    "number of awards": "4"
                                },
                                {
                                    "tm": "LAL",
                                    "number of awards": "8"
                                },
                                {
                                    "tm": "MIA",
                                    "number of awards": "2"
                                },
                                {
                                    "tm": "MIL",
                                    "number of awards": "5"
                                },
                                {
                                    "tm": "MIN",
                                    "number of awards": "1"
                                },
                                {
                                    "tm": "NYK",
                                    "number of awards": "1"
                                },
                                {
                                    "tm": "OKC",
                                    "number of awards": "2"
                                },
                                {
                                    "tm": "PHI",
                                    "number of awards": "7"
                                },
                                {
                                    "tm": "PHO",
                                    "number of awards": "3"
                                },
                                {
                                    "tm": "PHW",
                                    "number of awards": "1"
                                },
                                {
                                    "tm": "POR",
                                    "number of awards": "1"
                                },
                                {
                                    "tm": "SAS",
                                    "number of awards": "3"
                                },
                                {
                                    "tm": "STL",
                                    "number of awards": "2"
                                },
                                {
                                    "tm": "UTA",
                                    "number of awards": "2"
                                }
                            ]
                        },
                        "text/html": [
                            "<table>",
                            "<tr><th>tm</th><th>number of awards</th></tr>",
                            "<tr><td>BAL</td><td>1</td></tr>",
                            "<tr><td>BOS</td><td>10</td></tr>",
                            "<tr><td>BUF</td><td>1</td></tr>",
                            "<tr><td>CHI</td><td>6</td></tr>",
                            "<tr><td>CIN</td><td>1</td></tr>",
                            "<tr><td>CLE</td><td>2</td></tr>",
                            "<tr><td>DAL</td><td>1</td></tr>",
                            "<tr><td>DEN</td><td>2</td></tr>",
                            "<tr><td>GSW</td><td>2</td></tr>",
                            "<tr><td>HOU</td><td>4</td></tr>",
                            "<tr><td>LAL</td><td>8</td></tr>",
                            "<tr><td>MIA</td><td>2</td></tr>",
                            "<tr><td>MIL</td><td>5</td></tr>",
                            "<tr><td>MIN</td><td>1</td></tr>",
                            "<tr><td>NYK</td><td>1</td></tr>",
                            "<tr><td>OKC</td><td>2</td></tr>",
                            "<tr><td>PHI</td><td>7</td></tr>",
                            "<tr><td>PHO</td><td>3</td></tr>",
                            "<tr><td>PHW</td><td>1</td></tr>",
                            "<tr><td>POR</td><td>1</td></tr>",
                            "<tr><td>SAS</td><td>3</td></tr>",
                            "<tr><td>STL</td><td>2</td></tr>",
                            "<tr><td>UTA</td><td>2</td></tr>",
                            "</table>"
                        ]
                    }
                }
            ],
            "execution_count": 3
        },
        {
            "cell_type": "markdown",
            "source": [
                "![](c:\\Users\\Chicago\\Pictures\\Screenshots\\Screenshot&#32;(157).png)"
            ],
            "metadata": {
                "language": "",
                "azdata_cell_guid": "c312d5cf-8c35-430f-a000-68c52fc54179"
            },
            "attachments": {}
        },
        {
            "cell_type": "markdown",
            "source": [
                "# <mark>**NBA All-Star Selections for each player for seasons 2020-2024**</mark>\n",
                "\n",
                "- A Count function was used to keep a tally of total All-Star Selections\n",
                "- A WHERE clause was used to filter only the seasons needed\n",
                "- A BETWEEN operator was used in conjuciton with the WHERE clause to filter.\n",
                "- The goal was to include only a specific number of seasons and count all many selections each player had."
            ],
            "metadata": {
                "azdata_cell_guid": "a897b7b6-5149-4860-af8c-8b3e5fd35282"
            },
            "attachments": {}
        },
        {
            "cell_type": "code",
            "source": [
                "SELECT player, COUNT(*) AS 'All Star Selections'\r\n",
                "FROM [dbo].[All-Star Selections]\r\n",
                "WHERE season BETWEEN 2020 AND 2024\r\n",
                "GROUP BY player"
            ],
            "metadata": {
                "azdata_cell_guid": "341e4442-8c67-48f6-aad0-b99c56eb67d8",
                "language": "sql"
            },
            "outputs": [
                {
                    "output_type": "display_data",
                    "data": {
                        "text/html": "(57 rows affected)"
                    },
                    "metadata": {}
                },
                {
                    "output_type": "display_data",
                    "data": {
                        "text/html": "Total execution time: 00:00:00.011"
                    },
                    "metadata": {}
                },
                {
                    "output_type": "execute_result",
                    "metadata": {
                        "azdata_chartOptions": {
                            "type": "line",
                            "dataDirection": "vertical",
                            "columnsAsLabels": true,
                            "labelFirstColumn": false,
                            "legendPosition": "top",
                            "dataType": "number"
                        }
                    },
                    "execution_count": 4,
                    "data": {
                        "application/vnd.dataresource+json": {
                            "schema": {
                                "fields": [
                                    {
                                        "name": "player"
                                    },
                                    {
                                        "name": "All Star Selections"
                                    }
                                ]
                            },
                            "data": [
                                {
                                    "player": "Andrew Wiggins",
                                    "All Star Selections": "1"
                                },
                                {
                                    "player": "Anthony Davis",
                                    "All Star Selections": "3"
                                },
                                {
                                    "player": "Anthony Edwards",
                                    "All Star Selections": "2"
                                },
                                {
                                    "player": "Bam Adebayo",
                                    "All Star Selections": "3"
                                },
                                {
                                    "player": "Ben Simmons",
                                    "All Star Selections": "2"
                                },
                                {
                                    "player": "Bradley Beal",
                                    "All Star Selections": "1"
                                },
                                {
                                    "player": "Brandon Ingram",
                                    "All Star Selections": "1"
                                },
                                {
                                    "player": "Chris Paul",
                                    "All Star Selections": "3"
                                },
                                {
                                    "player": "Damian Lillard",
                                    "All Star Selections": "4"
                                },
                                {
                                    "player": "Darius Garland",
                                    "All Star Selections": "1"
                                },
                                {
                                    "player": "De'Aaron Fox",
                                    "All Star Selections": "1"
                                },
                                {
                                    "player": "Dejounte Murray",
                                    "All Star Selections": "1"
                                },
                                {
                                    "player": "DeMar DeRozan",
                                    "All Star Selections": "2"
                                },
                                {
                                    "player": "Devin Booker",
                                    "All Star Selections": "4"
                                },
                                {
                                    "player": "Domantas Sabonis",
                                    "All Star Selections": "3"
                                },
                                {
                                    "player": "Donovan Mitchell",
                                    "All Star Selections": "5"
                                },
                                {
                                    "player": "Draymond Green",
                                    "All Star Selections": "1"
                                },
                                {
                                    "player": "Fred VanVleet",
                                    "All Star Selections": "1"
                                },
                                {
                                    "player": "Giannis Antetokounmpo",
                                    "All Star Selections": "5"
                                },
                                {
                                    "player": "Ja Morant",
                                    "All Star Selections": "2"
                                },
                                {
                                    "player": "Jalen Brunson",
                                    "All Star Selections": "1"
                                },
                                {
                                    "player": "James Harden",
                                    "All Star Selections": "3"
                                },
                                {
                                    "player": "Jaren Jackson Jr.",
                                    "All Star Selections": "1"
                                },
                                {
                                    "player": "Jarrett Allen",
                                    "All Star Selections": "1"
                                },
                                {
                                    "player": "Jaylen Brown",
                                    "All Star Selections": "3"
                                },
                                {
                                    "player": "Jayson Tatum",
                                    "All Star Selections": "5"
                                },
                                {
                                    "player": "Jimmy Butler",
                                    "All Star Selections": "2"
                                },
                                {
                                    "player": "Joel Embiid",
                                    "All Star Selections": "5"
                                },
                                {
                                    "player": "Jrue Holiday",
                                    "All Star Selections": "1"
                                },
                                {
                                    "player": "Julius Randle",
                                    "All Star Selections": "3"
                                },
                                {
                                    "player": "Karl-Anthony Towns",
                                    "All Star Selections": "2"
                                },
                                {
                                    "player": "Kawhi Leonard",
                                    "All Star Selections": "3"
                                },
                                {
                                    "player": "Kemba Walker",
                                    "All Star Selections": "1"
                                },
                                {
                                    "player": "Kevin Durant",
                                    "All Star Selections": "4"
                                },
                                {
                                    "player": "Khris Middleton",
                                    "All Star Selections": "2"
                                },
                                {
                                    "player": "Kyle Lowry",
                                    "All Star Selections": "1"
                                },
                                {
                                    "player": "Kyrie Irving",
                                    "All Star Selections": "2"
                                },
                                {
                                    "player": "LaMelo Ball",
                                    "All Star Selections": "1"
                                },
                                {
                                    "player": "Lauri Markkanen",
                                    "All Star Selections": "1"
                                },
                                {
                                    "player": "LeBron James",
                                    "All Star Selections": "5"
                                },
                                {
                                    "player": "Luka Dončić",
                                    "All Star Selections": "5"
                                },
                                {
                                    "player": "Mike Conley",
                                    "All Star Selections": "1"
                                },
                                {
                                    "player": "Nikola Jokić",
                                    "All Star Selections": "5"
                                },
                                {
                                    "player": "Nikola Vučević",
                                    "All Star Selections": "1"
                                },
                                {
                                    "player": "Paolo Banchero",
                                    "All Star Selections": "1"
                                },
                                {
                                    "player": "Pascal Siakam",
                                    "All Star Selections": "2"
                                },
                                {
                                    "player": "Paul George",
                                    "All Star Selections": "3"
                                },
                                {
                                    "player": "Rudy Gobert",
                                    "All Star Selections": "3"
                                },
                                {
                                    "player": "Russell Westbrook",
                                    "All Star Selections": "1"
                                },
                                {
                                    "player": "Scottie Barnes",
                                    "All Star Selections": "1"
                                },
                                {
                                    "player": "Shai Gilgeous-Alexander",
                                    "All Star Selections": "2"
                                },
                                {
                                    "player": "Stephen Curry",
                                    "All Star Selections": "4"
                                },
                                {
                                    "player": "Trae Young",
                                    "All Star Selections": "3"
                                },
                                {
                                    "player": "Tyrese Haliburton",
                                    "All Star Selections": "2"
                                },
                                {
                                    "player": "Tyrese Maxey",
                                    "All Star Selections": "1"
                                },
                                {
                                    "player": "Zach LaVine",
                                    "All Star Selections": "2"
                                },
                                {
                                    "player": "Zion Williamson",
                                    "All Star Selections": "2"
                                }
                            ]
                        },
                        "text/html": [
                            "<table>",
                            "<tr><th>player</th><th>All Star Selections</th></tr>",
                            "<tr><td>Andrew Wiggins</td><td>1</td></tr>",
                            "<tr><td>Anthony Davis</td><td>3</td></tr>",
                            "<tr><td>Anthony Edwards</td><td>2</td></tr>",
                            "<tr><td>Bam Adebayo</td><td>3</td></tr>",
                            "<tr><td>Ben Simmons</td><td>2</td></tr>",
                            "<tr><td>Bradley Beal</td><td>1</td></tr>",
                            "<tr><td>Brandon Ingram</td><td>1</td></tr>",
                            "<tr><td>Chris Paul</td><td>3</td></tr>",
                            "<tr><td>Damian Lillard</td><td>4</td></tr>",
                            "<tr><td>Darius Garland</td><td>1</td></tr>",
                            "<tr><td>De&#39;Aaron Fox</td><td>1</td></tr>",
                            "<tr><td>Dejounte Murray</td><td>1</td></tr>",
                            "<tr><td>DeMar DeRozan</td><td>2</td></tr>",
                            "<tr><td>Devin Booker</td><td>4</td></tr>",
                            "<tr><td>Domantas Sabonis</td><td>3</td></tr>",
                            "<tr><td>Donovan Mitchell</td><td>5</td></tr>",
                            "<tr><td>Draymond Green</td><td>1</td></tr>",
                            "<tr><td>Fred VanVleet</td><td>1</td></tr>",
                            "<tr><td>Giannis Antetokounmpo</td><td>5</td></tr>",
                            "<tr><td>Ja Morant</td><td>2</td></tr>",
                            "<tr><td>Jalen Brunson</td><td>1</td></tr>",
                            "<tr><td>James Harden</td><td>3</td></tr>",
                            "<tr><td>Jaren Jackson Jr.</td><td>1</td></tr>",
                            "<tr><td>Jarrett Allen</td><td>1</td></tr>",
                            "<tr><td>Jaylen Brown</td><td>3</td></tr>",
                            "<tr><td>Jayson Tatum</td><td>5</td></tr>",
                            "<tr><td>Jimmy Butler</td><td>2</td></tr>",
                            "<tr><td>Joel Embiid</td><td>5</td></tr>",
                            "<tr><td>Jrue Holiday</td><td>1</td></tr>",
                            "<tr><td>Julius Randle</td><td>3</td></tr>",
                            "<tr><td>Karl-Anthony Towns</td><td>2</td></tr>",
                            "<tr><td>Kawhi Leonard</td><td>3</td></tr>",
                            "<tr><td>Kemba Walker</td><td>1</td></tr>",
                            "<tr><td>Kevin Durant</td><td>4</td></tr>",
                            "<tr><td>Khris Middleton</td><td>2</td></tr>",
                            "<tr><td>Kyle Lowry</td><td>1</td></tr>",
                            "<tr><td>Kyrie Irving</td><td>2</td></tr>",
                            "<tr><td>LaMelo Ball</td><td>1</td></tr>",
                            "<tr><td>Lauri Markkanen</td><td>1</td></tr>",
                            "<tr><td>LeBron James</td><td>5</td></tr>",
                            "<tr><td>Luka Dončić</td><td>5</td></tr>",
                            "<tr><td>Mike Conley</td><td>1</td></tr>",
                            "<tr><td>Nikola Jokić</td><td>5</td></tr>",
                            "<tr><td>Nikola Vučević</td><td>1</td></tr>",
                            "<tr><td>Paolo Banchero</td><td>1</td></tr>",
                            "<tr><td>Pascal Siakam</td><td>2</td></tr>",
                            "<tr><td>Paul George</td><td>3</td></tr>",
                            "<tr><td>Rudy Gobert</td><td>3</td></tr>",
                            "<tr><td>Russell Westbrook</td><td>1</td></tr>",
                            "<tr><td>Scottie Barnes</td><td>1</td></tr>",
                            "<tr><td>Shai Gilgeous-Alexander</td><td>2</td></tr>",
                            "<tr><td>Stephen Curry</td><td>4</td></tr>",
                            "<tr><td>Trae Young</td><td>3</td></tr>",
                            "<tr><td>Tyrese Haliburton</td><td>2</td></tr>",
                            "<tr><td>Tyrese Maxey</td><td>1</td></tr>",
                            "<tr><td>Zach LaVine</td><td>2</td></tr>",
                            "<tr><td>Zion Williamson</td><td>2</td></tr>",
                            "</table>"
                        ]
                    }
                }
            ],
            "execution_count": 4
        },
        {
            "cell_type": "markdown",
            "source": [
                "# **<mark>Percentages of Wins and Losses for the Chicago Bulls for the 2024 NBA Season</mark>**\n",
                "\n",
                "- **The goal was to display the percentages of wins and losses as a pie chart.**\n",
                "- **The CAST function was used to change the variable from a tinyint for a decimal.**\n",
                "- **The FLOOR function was used to round the final number.**\n",
                "- **The ALIAS was used to make the final number header.**\n",
                "- **Two WHERE clauses were used to filter out the data for only the Chicago Bulls and the 2024 season.**"
            ],
            "metadata": {
                "language": "sql",
                "azdata_cell_guid": "7df32f17-be4a-4a27-9ded-c665c9af9c16"
            },
            "attachments": {}
        },
        {
            "cell_type": "code",
            "source": [
                "select FLOOR((CAST([w] AS decimal)/ (CAST([w] AS decimal)+ CAST([l] AS decimal)) * 100)) AS 'Percentage of Games Won', \r\n",
                "\t\tFLOOR((CAST([l] AS decimal)/ (CAST([w] AS decimal)+ CAST([l] AS decimal)) * 100)) AS 'Percentage of Games Lost'\r\n",
                "from [dbo].[Team Summaries]\r\n",
                "Where team = 'Chicago Bulls'\r\n",
                "and season = 2024"
            ],
            "metadata": {
                "language": "sql",
                "azdata_cell_guid": "4f808f1d-f3c3-4a83-95be-dbb98f0c3fd8"
            },
            "outputs": [
{
    "output_type": "display_data",
    "data": {
        "text/html": "(1 row affected)"
    },
    "metadata": {}
}, {
    "output_type": "display_data",
    "data": {
        "text/html": "Total execution time: 00:00:00.010"
    },
    "metadata": {}
}, {
    "output_type": "execute_result",
    "metadata": {
        "azdata_chartOptions": {
            "type": "pie",
            "dataDirection": "horizontal",
            "columnsAsLabels": true,
            "labelFirstColumn": false,
            "legendPosition": "top"
        }
    },
    "execution_count": 5,
    "data": {
        "application/vnd.dataresource+json": {
            "schema": {
                "fields": [
                    {
                        "name": "Percentage of Games Won"
                    },
                    {
                        "name": "Percentage of Games Lost"
                    }
                ]
            },
            "data": [
                {
                    "Percentage of Games Won": "47",
                    "Percentage of Games Lost": "52"
                }
            ]
        },
        "text/html": [
            "<table>",
            "<tr><th>Percentage of Games Won</th><th>Percentage of Games Lost</th></tr>",
            "<tr><td>47</td><td>52</td></tr>",
            "</table>"
        ]
    }
}
],
            "execution_count": 5
        }
    ]
}